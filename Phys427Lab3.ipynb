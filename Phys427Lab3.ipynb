{
 "cells": [
  {
   "cell_type": "markdown",
   "metadata": {},
   "source": [
    "# Phys 427 Lab 3"
   ]
  },
  {
   "cell_type": "code",
   "execution_count": 29,
   "metadata": {},
   "outputs": [],
   "source": [
    "import numpy as np\n",
    "import matplotlib.pyplot as plot\n",
    "import pandas\n",
    "import uproot\n",
    "import seaborn as sn"
   ]
  },
  {
   "cell_type": "code",
   "execution_count": 166,
   "metadata": {},
   "outputs": [],
   "source": [
    "df_1 = uproot.open(\"df_1.root\")\n",
    "df_2 = uproot.open(\"df_2.root\")\n",
    "df_3 = uproot.open(\"df_3.root\")\n",
    "df_4 = uproot.open(\"df_4.root\")\n",
    "df_5 = uproot.open(\"df_5.root\")\n",
    "df_6 = uproot.open(\"df_6.root\")\n",
    "\n",
    "#downloads root files to the notebook"
   ]
  },
  {
   "cell_type": "code",
   "execution_count": 167,
   "metadata": {},
   "outputs": [
    {
     "data": {
      "text/plain": [
       "[b'pandas_tree218;1']"
      ]
     },
     "execution_count": 167,
     "metadata": {},
     "output_type": "execute_result"
    }
   ],
   "source": [
    "df_1.keys()\n",
    "# Here I was finding the branch names in the data tree"
   ]
  },
  {
   "cell_type": "code",
   "execution_count": 168,
   "metadata": {},
   "outputs": [],
   "source": [
    "df_1 = df_1[\"pandas_tree218\"]\n",
    "df_2 = df_2[\"pandas_tree51358\"]\n",
    "df_3 = df_3[\"pandas_tree53278\"]\n",
    "df_4 = df_4[\"pandas_tree52558\"]\n",
    "df_5 = df_5[\"pandas_tree53038\"]\n",
    "df_6 = df_6[\"pandas_tree54718\"]\n",
    "\n",
    "# called the branch name in data tree"
   ]
  },
  {
   "cell_type": "code",
   "execution_count": 169,
   "metadata": {},
   "outputs": [
    {
     "data": {
      "text/html": [
       "<div>\n",
       "<style scoped>\n",
       "    .dataframe tbody tr th:only-of-type {\n",
       "        vertical-align: middle;\n",
       "    }\n",
       "\n",
       "    .dataframe tbody tr th {\n",
       "        vertical-align: top;\n",
       "    }\n",
       "\n",
       "    .dataframe thead th {\n",
       "        text-align: right;\n",
       "    }\n",
       "</style>\n",
       "<table border=\"1\" class=\"dataframe\">\n",
       "  <thead>\n",
       "    <tr style=\"text-align: right;\">\n",
       "      <th></th>\n",
       "      <th>JetPt</th>\n",
       "      <th>JetEta</th>\n",
       "      <th>JetPhi</th>\n",
       "      <th>IsLLP</th>\n",
       "      <th>Lx</th>\n",
       "      <th>Ly</th>\n",
       "      <th>Lz</th>\n",
       "    </tr>\n",
       "    <tr>\n",
       "      <th>entry</th>\n",
       "      <th></th>\n",
       "      <th></th>\n",
       "      <th></th>\n",
       "      <th></th>\n",
       "      <th></th>\n",
       "      <th></th>\n",
       "      <th></th>\n",
       "    </tr>\n",
       "  </thead>\n",
       "  <tbody>\n",
       "    <tr>\n",
       "      <td>0</td>\n",
       "      <td>50.151355</td>\n",
       "      <td>1.767030</td>\n",
       "      <td>0.074290</td>\n",
       "      <td>True</td>\n",
       "      <td>1851.684326</td>\n",
       "      <td>178.223892</td>\n",
       "      <td>5354.035156</td>\n",
       "    </tr>\n",
       "    <tr>\n",
       "      <td>1</td>\n",
       "      <td>45.315016</td>\n",
       "      <td>1.088594</td>\n",
       "      <td>0.364831</td>\n",
       "      <td>False</td>\n",
       "      <td>0.000000</td>\n",
       "      <td>0.000000</td>\n",
       "      <td>0.000000</td>\n",
       "    </tr>\n",
       "    <tr>\n",
       "      <td>2</td>\n",
       "      <td>163.244844</td>\n",
       "      <td>1.709549</td>\n",
       "      <td>2.769850</td>\n",
       "      <td>True</td>\n",
       "      <td>609.158691</td>\n",
       "      <td>239.010056</td>\n",
       "      <td>1741.357788</td>\n",
       "    </tr>\n",
       "    <tr>\n",
       "      <td>3</td>\n",
       "      <td>147.121187</td>\n",
       "      <td>-0.237002</td>\n",
       "      <td>-0.393413</td>\n",
       "      <td>False</td>\n",
       "      <td>0.000000</td>\n",
       "      <td>0.000000</td>\n",
       "      <td>0.000000</td>\n",
       "    </tr>\n",
       "    <tr>\n",
       "      <td>4</td>\n",
       "      <td>54.661199</td>\n",
       "      <td>-0.730161</td>\n",
       "      <td>-2.550338</td>\n",
       "      <td>False</td>\n",
       "      <td>0.000000</td>\n",
       "      <td>0.000000</td>\n",
       "      <td>0.000000</td>\n",
       "    </tr>\n",
       "    <tr>\n",
       "      <td>...</td>\n",
       "      <td>...</td>\n",
       "      <td>...</td>\n",
       "      <td>...</td>\n",
       "      <td>...</td>\n",
       "      <td>...</td>\n",
       "      <td>...</td>\n",
       "      <td>...</td>\n",
       "    </tr>\n",
       "    <tr>\n",
       "      <td>22571</td>\n",
       "      <td>76.296273</td>\n",
       "      <td>1.114254</td>\n",
       "      <td>-1.709045</td>\n",
       "      <td>True</td>\n",
       "      <td>259.214996</td>\n",
       "      <td>2172.912354</td>\n",
       "      <td>3113.421875</td>\n",
       "    </tr>\n",
       "    <tr>\n",
       "      <td>22572</td>\n",
       "      <td>53.958059</td>\n",
       "      <td>0.729737</td>\n",
       "      <td>2.172977</td>\n",
       "      <td>True</td>\n",
       "      <td>499.816559</td>\n",
       "      <td>714.238342</td>\n",
       "      <td>664.080627</td>\n",
       "    </tr>\n",
       "    <tr>\n",
       "      <td>22573</td>\n",
       "      <td>44.355902</td>\n",
       "      <td>-1.914020</td>\n",
       "      <td>-1.443047</td>\n",
       "      <td>False</td>\n",
       "      <td>0.000000</td>\n",
       "      <td>0.000000</td>\n",
       "      <td>0.000000</td>\n",
       "    </tr>\n",
       "    <tr>\n",
       "      <td>22574</td>\n",
       "      <td>55.199289</td>\n",
       "      <td>-1.183146</td>\n",
       "      <td>-2.402029</td>\n",
       "      <td>True</td>\n",
       "      <td>2205.466064</td>\n",
       "      <td>1874.168701</td>\n",
       "      <td>4298.028320</td>\n",
       "    </tr>\n",
       "    <tr>\n",
       "      <td>22575</td>\n",
       "      <td>45.983867</td>\n",
       "      <td>-2.013459</td>\n",
       "      <td>0.338020</td>\n",
       "      <td>False</td>\n",
       "      <td>0.000000</td>\n",
       "      <td>0.000000</td>\n",
       "      <td>0.000000</td>\n",
       "    </tr>\n",
       "  </tbody>\n",
       "</table>\n",
       "<p>22576 rows × 7 columns</p>\n",
       "</div>"
      ],
      "text/plain": [
       "            JetPt    JetEta    JetPhi  IsLLP           Lx           Ly  \\\n",
       "entry                                                                    \n",
       "0       50.151355  1.767030  0.074290   True  1851.684326   178.223892   \n",
       "1       45.315016  1.088594  0.364831  False     0.000000     0.000000   \n",
       "2      163.244844  1.709549  2.769850   True   609.158691   239.010056   \n",
       "3      147.121187 -0.237002 -0.393413  False     0.000000     0.000000   \n",
       "4       54.661199 -0.730161 -2.550338  False     0.000000     0.000000   \n",
       "...           ...       ...       ...    ...          ...          ...   \n",
       "22571   76.296273  1.114254 -1.709045   True   259.214996  2172.912354   \n",
       "22572   53.958059  0.729737  2.172977   True   499.816559   714.238342   \n",
       "22573   44.355902 -1.914020 -1.443047  False     0.000000     0.000000   \n",
       "22574   55.199289 -1.183146 -2.402029   True  2205.466064  1874.168701   \n",
       "22575   45.983867 -2.013459  0.338020  False     0.000000     0.000000   \n",
       "\n",
       "                Lz  \n",
       "entry               \n",
       "0      5354.035156  \n",
       "1         0.000000  \n",
       "2      1741.357788  \n",
       "3         0.000000  \n",
       "4         0.000000  \n",
       "...            ...  \n",
       "22571  3113.421875  \n",
       "22572   664.080627  \n",
       "22573     0.000000  \n",
       "22574  4298.028320  \n",
       "22575     0.000000  \n",
       "\n",
       "[22576 rows x 7 columns]"
      ]
     },
     "execution_count": 169,
     "metadata": {},
     "output_type": "execute_result"
    }
   ],
   "source": [
    "df_1 = df_1.pandas.df([\"JetPt\", \"JetEta\", \"JetPhi\", \"IsLLP\", \"Lx\", \"Ly\", \"Lz\"])\n",
    "df_2 = df_2.pandas.df([\"JetPt\", \"JetEta\", \"JetPhi\", \"IsLLP\", \"Lx\", \"Ly\", \"Lz\"])\n",
    "df_3 = df_3.pandas.df([\"JetPt\", \"JetEta\", \"JetPhi\", \"IsLLP\", \"Lx\", \"Ly\", \"Lz\"])\n",
    "df_4 = df_4.pandas.df([\"JetPt\", \"JetEta\", \"JetPhi\", \"IsLLP\", \"Lx\", \"Ly\", \"Lz\"])\n",
    "df_5 = df_5.pandas.df([\"JetPt\", \"JetEta\", \"JetPhi\", \"IsLLP\", \"Lx\", \"Ly\", \"Lz\"])\n",
    "df_6 = df_6.pandas.df([\"JetPt\", \"JetEta\", \"JetPhi\", \"IsLLP\", \"Lx\", \"Ly\", \"Lz\"])\n",
    "\n",
    "#creates pandas dataframes with relevant values\n",
    "\n",
    "df_1\n",
    "#opened the data branch"
   ]
  },
  {
   "cell_type": "markdown",
   "metadata": {},
   "source": [
    "### Above I have filtered out the data types, from the first file, that will be used in this assignment. JetPt, JetEta and JetPhi describe the kinematic properties of the jet. JetPt describes the transverse plane momentum where the transverse plane is in the plane orthogonal to incident particle momentum. Jet Eta is the angle on the transverse plane. Jet Phi is the angle between the jets trajectory and the transverse plane.IsLLP is a true false statement of whether or not that jet is from a Long Lived Particle. Lx, Ly and Lz are the decay lengths of the LLP's and the LLP's only."
   ]
  },
  {
   "cell_type": "code",
   "execution_count": 170,
   "metadata": {},
   "outputs": [],
   "source": [
    "JetPt1 = df_1['JetPt']\n",
    "JetEta1 = df_1['JetEta']\n",
    "JetPhi1 = df_1['JetPhi']\n",
    "Lx1 = df_1['Lx']\n",
    "Ly1 = df_1['Ly']\n",
    "Lz1 = df_1['Lz']\n",
    "\n",
    "# This filters arrays from our data frame to plot"
   ]
  },
  {
   "cell_type": "code",
   "execution_count": 171,
   "metadata": {},
   "outputs": [],
   "source": [
    "L_T1 = np.sqrt(Lx1**2 + Ly1**2)\n",
    "\n",
    "#transverse decay length\n",
    "\n",
    "L1 = np.sqrt(Lx1**2 + Ly1**2 + Lz1**2)\n",
    "\n",
    "#3D decay length"
   ]
  },
  {
   "cell_type": "code",
   "execution_count": 172,
   "metadata": {},
   "outputs": [
    {
     "data": {
      "image/png": "[encoded data removed]",
      "text/plain": [
       "<Figure size 432x288 with 6 Axes>"
      ]
     },
     "metadata": {
      "needs_background": "light"
     },
     "output_type": "display_data"
    }
   ],
   "source": [
    "fig, axes = plot.subplots(nrows = 2, ncols = 3)\n",
    "\n",
    "#creates figure of a subplot matrix of size 2 rows and 3 columns\n",
    "\n",
    "JetPt1.hist(ax = axes[0, 0], bins = 100)\n",
    "axes[0,0].set_xlabel('Transverse Plane Momentum')\n",
    "axes[0,0].grid(False)\n",
    "\n",
    "JetEta1.hist(ax = axes[0,1], bins = 20, color = 'red')\n",
    "axes[0,1].set_xlabel('Jet Eta')\n",
    "axes[0,1].grid(False)\n",
    "\n",
    "JetPhi1.hist(ax = axes[0,2], bins = 20, color = 'red')\n",
    "axes[0,2].set_xlabel('Jet Phi')\n",
    "axes[0,2].grid(False)\n",
    "\n",
    "Lx1.hist(ax = axes[1,0], bins = 100, color = 'green')\n",
    "axes[1,0].set_xlabel('X Decay Length')\n",
    "axes[1,0].grid(False)\n",
    "\n",
    "Ly1.hist(ax = axes[1,1], bins = 100, color = 'green')\n",
    "axes[1,1].set_xlabel('Y Decay Length')\n",
    "axes[1,1].grid(False)\n",
    "\n",
    "\n",
    "Lz1.hist(ax = axes[1,2], bins = 100, color = 'green')\n",
    "axes[1,2].set_xlabel('Z Decay Length')\n",
    "axes[1,2].grid(False)\n",
    "\n",
    "#plots histograms of our data on [row = n, column = n]\n",
    "#grid was turned off because it was hiding the spikes near zero decay length\n",
    "#did not zoom plots in because the maximum values in decay length did go out to our x axis range\n",
    "\n",
    "plot.subplots_adjust(top = 1, right = 1.5, wspace = 0.5, hspace = 0.5)\n",
    "plot.show()"
   ]
  },
  {
   "cell_type": "code",
   "execution_count": 173,
   "metadata": {},
   "outputs": [
    {
     "data": {
      "image/png": "[encoded data removed]",
      "text/plain": [
       "<Figure size 432x288 with 2 Axes>"
      ]
     },
     "metadata": {
      "needs_background": "light"
     },
     "output_type": "display_data"
    }
   ],
   "source": [
    "fig, axes = plot.subplots(nrows = 1, ncols = 2)\n",
    "\n",
    "L_T1.hist(ax = axes[0], bins = 100, color = 'green')\n",
    "axes[0].set_title('L_T1')\n",
    "axes[0].set_xlabel('Transverse Decay Length')\n",
    "axes[0].grid(False)\n",
    "\n",
    "L1.hist(ax = axes[1], bins = 100, color = 'green')\n",
    "axes[1].set_xlabel('3D Decay Length')\n",
    "axes[1].set_title('L1')\n",
    "axes[1].grid(False)\n",
    "\n",
    "plot.show()"
   ]
  },
  {
   "cell_type": "code",
   "execution_count": 174,
   "metadata": {},
   "outputs": [
    {
     "data": {
      "text/html": [
       "<div>\n",
       "<style scoped>\n",
       "    .dataframe tbody tr th:only-of-type {\n",
       "        vertical-align: middle;\n",
       "    }\n",
       "\n",
       "    .dataframe tbody tr th {\n",
       "        vertical-align: top;\n",
       "    }\n",
       "\n",
       "    .dataframe thead th {\n",
       "        text-align: right;\n",
       "    }\n",
       "</style>\n",
       "<table border=\"1\" class=\"dataframe\">\n",
       "  <thead>\n",
       "    <tr style=\"text-align: right;\">\n",
       "      <th></th>\n",
       "      <th></th>\n",
       "      <th>JetPt</th>\n",
       "      <th>JetEta</th>\n",
       "      <th>JetPhi</th>\n",
       "      <th>IsLLP</th>\n",
       "      <th>Lx</th>\n",
       "      <th>Ly</th>\n",
       "      <th>Lz</th>\n",
       "    </tr>\n",
       "    <tr>\n",
       "      <th></th>\n",
       "      <th>entry</th>\n",
       "      <th></th>\n",
       "      <th></th>\n",
       "      <th></th>\n",
       "      <th></th>\n",
       "      <th></th>\n",
       "      <th></th>\n",
       "      <th></th>\n",
       "    </tr>\n",
       "  </thead>\n",
       "  <tbody>\n",
       "    <tr>\n",
       "      <td rowspan=\"5\" valign=\"top\">df_1</td>\n",
       "      <td>0</td>\n",
       "      <td>50.151355</td>\n",
       "      <td>1.767030</td>\n",
       "      <td>0.074290</td>\n",
       "      <td>True</td>\n",
       "      <td>1851.684326</td>\n",
       "      <td>178.223892</td>\n",
       "      <td>5354.035156</td>\n",
       "    </tr>\n",
       "    <tr>\n",
       "      <td>1</td>\n",
       "      <td>45.315016</td>\n",
       "      <td>1.088594</td>\n",
       "      <td>0.364831</td>\n",
       "      <td>False</td>\n",
       "      <td>0.000000</td>\n",
       "      <td>0.000000</td>\n",
       "      <td>0.000000</td>\n",
       "    </tr>\n",
       "    <tr>\n",
       "      <td>2</td>\n",
       "      <td>163.244844</td>\n",
       "      <td>1.709549</td>\n",
       "      <td>2.769850</td>\n",
       "      <td>True</td>\n",
       "      <td>609.158691</td>\n",
       "      <td>239.010056</td>\n",
       "      <td>1741.357788</td>\n",
       "    </tr>\n",
       "    <tr>\n",
       "      <td>3</td>\n",
       "      <td>147.121187</td>\n",
       "      <td>-0.237002</td>\n",
       "      <td>-0.393413</td>\n",
       "      <td>False</td>\n",
       "      <td>0.000000</td>\n",
       "      <td>0.000000</td>\n",
       "      <td>0.000000</td>\n",
       "    </tr>\n",
       "    <tr>\n",
       "      <td>4</td>\n",
       "      <td>54.661199</td>\n",
       "      <td>-0.730161</td>\n",
       "      <td>-2.550338</td>\n",
       "      <td>False</td>\n",
       "      <td>0.000000</td>\n",
       "      <td>0.000000</td>\n",
       "      <td>0.000000</td>\n",
       "    </tr>\n",
       "    <tr>\n",
       "      <td>...</td>\n",
       "      <td>...</td>\n",
       "      <td>...</td>\n",
       "      <td>...</td>\n",
       "      <td>...</td>\n",
       "      <td>...</td>\n",
       "      <td>...</td>\n",
       "      <td>...</td>\n",
       "      <td>...</td>\n",
       "    </tr>\n",
       "    <tr>\n",
       "      <td rowspan=\"5\" valign=\"top\">df_6</td>\n",
       "      <td>1695822</td>\n",
       "      <td>216.514703</td>\n",
       "      <td>0.155385</td>\n",
       "      <td>2.572538</td>\n",
       "      <td>True</td>\n",
       "      <td>2221.168945</td>\n",
       "      <td>1310.453613</td>\n",
       "      <td>443.914246</td>\n",
       "    </tr>\n",
       "    <tr>\n",
       "      <td>1695823</td>\n",
       "      <td>100.025234</td>\n",
       "      <td>0.468585</td>\n",
       "      <td>0.328753</td>\n",
       "      <td>False</td>\n",
       "      <td>0.000000</td>\n",
       "      <td>0.000000</td>\n",
       "      <td>0.000000</td>\n",
       "    </tr>\n",
       "    <tr>\n",
       "      <td>1695824</td>\n",
       "      <td>88.622664</td>\n",
       "      <td>1.336524</td>\n",
       "      <td>-0.449329</td>\n",
       "      <td>False</td>\n",
       "      <td>0.000000</td>\n",
       "      <td>0.000000</td>\n",
       "      <td>0.000000</td>\n",
       "    </tr>\n",
       "    <tr>\n",
       "      <td>1695825</td>\n",
       "      <td>79.377008</td>\n",
       "      <td>0.741856</td>\n",
       "      <td>-0.320374</td>\n",
       "      <td>False</td>\n",
       "      <td>0.000000</td>\n",
       "      <td>0.000000</td>\n",
       "      <td>0.000000</td>\n",
       "    </tr>\n",
       "    <tr>\n",
       "      <td>1695826</td>\n",
       "      <td>63.754262</td>\n",
       "      <td>1.006141</td>\n",
       "      <td>-2.172019</td>\n",
       "      <td>False</td>\n",
       "      <td>0.000000</td>\n",
       "      <td>0.000000</td>\n",
       "      <td>0.000000</td>\n",
       "    </tr>\n",
       "  </tbody>\n",
       "</table>\n",
       "<p>3448258 rows × 7 columns</p>\n",
       "</div>"
      ],
      "text/plain": [
       "                   JetPt    JetEta    JetPhi  IsLLP           Lx           Ly  \\\n",
       "     entry                                                                      \n",
       "df_1 0         50.151355  1.767030  0.074290   True  1851.684326   178.223892   \n",
       "     1         45.315016  1.088594  0.364831  False     0.000000     0.000000   \n",
       "     2        163.244844  1.709549  2.769850   True   609.158691   239.010056   \n",
       "     3        147.121187 -0.237002 -0.393413  False     0.000000     0.000000   \n",
       "     4         54.661199 -0.730161 -2.550338  False     0.000000     0.000000   \n",
       "...                  ...       ...       ...    ...          ...          ...   \n",
       "df_6 1695822  216.514703  0.155385  2.572538   True  2221.168945  1310.453613   \n",
       "     1695823  100.025234  0.468585  0.328753  False     0.000000     0.000000   \n",
       "     1695824   88.622664  1.336524 -0.449329  False     0.000000     0.000000   \n",
       "     1695825   79.377008  0.741856 -0.320374  False     0.000000     0.000000   \n",
       "     1695826   63.754262  1.006141 -2.172019  False     0.000000     0.000000   \n",
       "\n",
       "                       Lz  \n",
       "     entry                 \n",
       "df_1 0        5354.035156  \n",
       "     1           0.000000  \n",
       "     2        1741.357788  \n",
       "     3           0.000000  \n",
       "     4           0.000000  \n",
       "...                   ...  \n",
       "df_6 1695822   443.914246  \n",
       "     1695823     0.000000  \n",
       "     1695824     0.000000  \n",
       "     1695825     0.000000  \n",
       "     1695826     0.000000  \n",
       "\n",
       "[3448258 rows x 7 columns]"
      ]
     },
     "execution_count": 174,
     "metadata": {},
     "output_type": "execute_result"
    }
   ],
   "source": [
    "#Data = pandas.concat([df_1, df_2, df_3, df_4, df_5, df_6], keys = ['df_1', 'df_2', 'df_3', 'df_4', 'df_5', 'df_6'])\n",
    "Data = pandas.concat({'df_1':df_1, 'df_2':df_2, 'df_3':df_3, 'df_4':df_4, 'df_5':df_5, 'df_6':df_6})\n",
    "#collects all pandas arrays and collapses them into a single data frames\n",
    "Data"
   ]
  },
  {
   "cell_type": "code",
   "execution_count": 175,
   "metadata": {},
   "outputs": [],
   "source": [
    "JetPt1 = df_1[\"JetPt\"]\n",
    "JetPt2 = df_2[\"JetPt\"]\n",
    "JetPt3 = df_3[\"JetPt\"]\n",
    "JetPt4 = df_4[\"JetPt\"]\n",
    "JetPt5 = df_5[\"JetPt\"]\n",
    "JetPt6 = df_6[\"JetPt\"]\n",
    "\n",
    "# Creates dataframes for the Transverse Plane momentums\n",
    "\n",
    "JetPt1 = JetPt1.where(JetPt1 < 200)\n",
    "JetPt2 = JetPt2.where(JetPt2 < 200)\n",
    "JetPt3 = JetPt3.where(JetPt3 < 200)\n",
    "JetPt4 = JetPt4.where(JetPt4 < 200)\n",
    "JetPt5 = JetPt5.where(JetPt5 < 200)\n",
    "JetPt6 = JetPt6.where(JetPt6 < 200)\n",
    "\n",
    "# Limited data sets to less than 200 to show the values of interest"
   ]
  },
  {
   "cell_type": "code",
   "execution_count": 109,
   "metadata": {},
   "outputs": [
    {
     "data": {
      "text/plain": [
       "<matplotlib.axes._subplots.AxesSubplot at 0x2ac1e974988>"
      ]
     },
     "execution_count": 109,
     "metadata": {},
     "output_type": "execute_result"
    },
    {
     "data": {
      "image/png": "[encoded data removed]",
      "text/plain": [
       "<Figure size 432x288 with 1 Axes>"
      ]
     },
     "metadata": {
      "needs_background": "light"
     },
     "output_type": "display_data"
    }
   ],
   "source": [
    "sn.violinplot(data = [JetPt1, JetPt2, JetPt3, JetPt4, JetPt5, JetPt6])"
   ]
  },
  {
   "cell_type": "code",
   "execution_count": 110,
   "metadata": {},
   "outputs": [],
   "source": [
    "#Data[\"JetPt\"].loc['df_1']\n",
    "# did this to learn how to call certain parts of the data frame"
   ]
  },
  {
   "cell_type": "code",
   "execution_count": 127,
   "metadata": {},
   "outputs": [],
   "source": [
    "L_T2 = np.sqrt((Data[\"Lx\"].loc['df_2'])**2 + (Data[\"Ly\"].loc['df_2'])**2)\n",
    "L_T3 = np.sqrt((Data[\"Lx\"].loc['df_3'])**2 + (Data[\"Ly\"].loc['df_3'])**2)\n",
    "L_T4 = np.sqrt((Data[\"Lx\"].loc['df_4'])**2 + (Data[\"Ly\"].loc['df_4'])**2)\n",
    "L_T5 = np.sqrt((Data[\"Lx\"].loc['df_5'])**2 + (Data[\"Ly\"].loc['df_5'])**2)\n",
    "L_T6 = np.sqrt((Data[\"Lx\"].loc['df_6'])**2 + (Data[\"Ly\"].loc['df_6'])**2)\n",
    "\n",
    "#created transverse decay lengths by calling different portions of the maindataframe\n",
    "\n",
    "L2 = np.sqrt((Data[\"Lx\"].loc['df_2'])**2 + (Data[\"Ly\"].loc['df_2'])**2 + (Data[\"Lz\"].loc['df_2'])**2)\n",
    "L3 = np.sqrt((Data[\"Lx\"].loc['df_3'])**2 + (Data[\"Ly\"].loc['df_3'])**2 + (Data[\"Lz\"].loc['df_3'])**2)\n",
    "L4 = np.sqrt((Data[\"Lx\"].loc['df_4'])**2 + (Data[\"Ly\"].loc['df_4'])**2 + (Data[\"Lz\"].loc['df_4'])**2)\n",
    "L5 = np.sqrt((Data[\"Lx\"].loc['df_5'])**2 + (Data[\"Ly\"].loc['df_5'])**2 + (Data[\"Lz\"].loc['df_5'])**2)\n",
    "L6 = np.sqrt((Data[\"Lx\"].loc['df_6'])**2 + (Data[\"Ly\"].loc['df_6'])**2 + (Data[\"Lz\"].loc['df_6'])**2)\n",
    "\n",
    "#created 3d decay lengths by calling different portions of the maindataframe\n",
    "\n",
    "L_T1 = L_T1.where(L_T1 < 10000)\n",
    "L_T2 = L_T2.where(L_T2 < 10000)\n",
    "L_T3 = L_T3.where(L_T3 < 10000)\n",
    "L_T4 = L_T4.where(L_T4 < 10000)\n",
    "L_T5 = L_T5.where(L_T5 < 10000)\n",
    "L_T6 = L_T6.where(L_T6 < 10000)\n",
    "# Limits L_T values\n",
    "\n",
    "L1 = L1.where(L1 < 10000)\n",
    "L2 = L2.where(L2 < 10000)\n",
    "L3 = L3.where(L3 < 10000)\n",
    "L4 = L4.where(L4 < 10000)\n",
    "L5 = L5.where(L5 < 10000)\n",
    "L6 = L6.where(L1 < 10000)\n",
    "\n",
    "# Limits L values\n",
    "\n",
    "L_T = [L_T1, L_T2, L_T3, L_T4, L_T5, L_T6]\n",
    "L = [L1, L2, L3, L4, L5, L6]\n",
    "# Puts our data frames in a list to put in a violin plot easier"
   ]
  },
  {
   "cell_type": "code",
   "execution_count": 135,
   "metadata": {},
   "outputs": [
    {
     "data": {
      "text/plain": [
       "Text(0.5, 1.0, 'Transverse Plane Decay')"
      ]
     },
     "execution_count": 135,
     "metadata": {},
     "output_type": "execute_result"
    },
    {
     "data": {
      "image/png": "[encoded data removed]",
      "text/plain": [
       "<Figure size 432x288 with 1 Axes>"
      ]
     },
     "metadata": {
      "needs_background": "light"
     },
     "output_type": "display_data"
    }
   ],
   "source": [
    "sn.violinplot(data = L_T)\n",
    "plot.title('Transverse Plane Decay')"
   ]
  },
  {
   "cell_type": "code",
   "execution_count": 136,
   "metadata": {},
   "outputs": [
    {
     "data": {
      "text/plain": [
       "Text(0.5, 1.0, '3D Decay')"
      ]
     },
     "execution_count": 136,
     "metadata": {},
     "output_type": "execute_result"
    },
    {
     "data": {
      "image/png": "[encoded data removed]",
      "text/plain": [
       "<Figure size 432x288 with 1 Axes>"
      ]
     },
     "metadata": {
      "needs_background": "light"
     },
     "output_type": "display_data"
    }
   ],
   "source": [
    "sn.violinplot(data = L)\n",
    "plot.title('3D Decay')"
   ]
  },
  {
   "cell_type": "markdown",
   "metadata": {},
   "source": [
    "### Next, filtering the files of the decay length will be simple, we just act a locate function on our L_T and L function since they can be filtered by their zero values. However, the transverse plane momentum has values not equal to zero, even when there is no long lived particle. So I must create new files filtering the main files from particles with and without LLP's."
   ]
  },
  {
   "cell_type": "code",
   "execution_count": 134,
   "metadata": {},
   "outputs": [],
   "source": [
    "LLP_df_1 = df_1.loc[(df_1[\"Lx\"] != 0)]\n",
    "LLP_df_2 = df_2.loc[(df_2[\"Lx\"] != 0)]\n",
    "LLP_df_3 = df_3.loc[(df_3[\"Lx\"] != 0)]\n",
    "LLP_df_4 = df_4.loc[(df_4[\"Lx\"] != 0)]\n",
    "LLP_df_5 = df_5.loc[(df_5[\"Lx\"] != 0)]\n",
    "LLP_df_6 = df_6.loc[(df_6[\"Lx\"] != 0)]\n",
    "\n",
    "#filters a data file with LLP's by using the fact that the x decay length of the non LLP files is zero\n",
    "\n",
    "NLLP_df_1 = df_1.loc[(df_1[\"Lx\"] == 0)]\n",
    "NLLP_df_2 = df_2.loc[(df_2[\"Lx\"] == 0)]\n",
    "NLLP_df_3 = df_3.loc[(df_3[\"Lx\"] == 0)]\n",
    "NLLP_df_4 = df_4.loc[(df_4[\"Lx\"] == 0)]\n",
    "NLLP_df_5 = df_5.loc[(df_5[\"Lx\"] == 0)]\n",
    "NLLP_df_6 = df_6.loc[(df_6[\"Lx\"] == 0)]\n",
    "\n",
    "#filters a data file without LLP's "
   ]
  },
  {
   "cell_type": "code",
   "execution_count": 142,
   "metadata": {},
   "outputs": [],
   "source": [
    "JetPt1 = LLP_df_1[\"JetPt\"]\n",
    "JetPt1 = JetPt1.where(JetPt1 < 500)\n",
    "\n",
    "JetPt2 = LLP_df_2[\"JetPt\"]\n",
    "JetPt2 = JetPt2.where(JetPt2 < 500)\n",
    "\n",
    "JetPt3 = LLP_df_3[\"JetPt\"]\n",
    "JetPt3 = JetPt3.where(JetPt3 < 500)\n",
    "\n",
    "JetPt4 = LLP_df_4[\"JetPt\"]\n",
    "JetPt4 = JetPt4.where(JetPt4 < 500)\n",
    "\n",
    "JetPt5 = LLP_df_5[\"JetPt\"]\n",
    "JetPt5 = JetPt5.where(JetPt5 < 500)\n",
    "\n",
    "JetPt6 = LLP_df_6[\"JetPt\"]\n",
    "JetPt6 = JetPt6.where(JetPt6 < 500)\n",
    "\n",
    "# Extracts JetPt from our created LLP files and limits the data values to 500\n",
    "\n",
    "NJetPt1 = NLLP_df_1[\"JetPt\"]\n",
    "NJetPt1 = NJetPt1.where(NJetPt1 < 500)\n",
    "\n",
    "NJetPt2 = NLLP_df_2[\"JetPt\"]\n",
    "NJetPt2 = NJetPt2.where(NJetPt2 < 500)\n",
    "\n",
    "NJetPt3 = NLLP_df_3[\"JetPt\"]\n",
    "NJetPt3 = NJetPt3.where(NJetPt3 < 500)\n",
    "\n",
    "NJetPt4 = NLLP_df_4[\"JetPt\"]\n",
    "NJetPt4 = NJetPt4.where(NJetPt4 < 500)\n",
    "\n",
    "NJetPt5 = NLLP_df_5[\"JetPt\"]\n",
    "NJetPt5 = NJetPt5.where(NJetPt5 < 500)\n",
    "\n",
    "NJetPt6 = NLLP_df_6[\"JetPt\"]\n",
    "NJetPt6 = NJetPt6.where(NJetPt6 < 500)\n",
    "\n",
    "# Extracts JetPt from our created Non LLP files. Also limits our data values to 500. \n",
    "\n",
    "JetPt = [JetPt1, JetPt2, JetPt3, JetPt4, JetPt5, JetPt6]\n",
    "NJetPt = [NJetPt1, NJetPt2, NJetPt3, NJetPt4, NJetPt5, NJetPt6]"
   ]
  },
  {
   "cell_type": "code",
   "execution_count": 152,
   "metadata": {},
   "outputs": [
    {
     "data": {
      "text/plain": [
       "Text(0.5, 1.0, 'JetPt of non LLPs')"
      ]
     },
     "execution_count": 152,
     "metadata": {},
     "output_type": "execute_result"
    },
    {
     "data": {
      "image/png": "[encoded data removed]",
      "text/plain": [
       "<Figure size 432x288 with 2 Axes>"
      ]
     },
     "metadata": {
      "needs_background": "light"
     },
     "output_type": "display_data"
    }
   ],
   "source": [
    "fig, axes = plot.subplots(nrows = 1, ncols = 2)\n",
    "\n",
    "sn.violinplot(data = JetPt, ax = axes[0])\n",
    "axes[0].set_title('JetPt of LLPs')\n",
    "\n",
    "sn.violinplot(data = NJetPt, ax = axes[1])\n",
    "axes[1].set_title('JetPt of non LLPs')"
   ]
  },
  {
   "cell_type": "code",
   "execution_count": 150,
   "metadata": {},
   "outputs": [],
   "source": [
    "YL_T1 = L_T1.loc[(L_T1 != 0)] # Y for Yes there is a LLP\n",
    "YL_T2 = L_T2.loc[(L_T2 != 0)]\n",
    "YL_T3 = L_T3.loc[(L_T3 != 0)]\n",
    "YL_T4 = L_T4.loc[(L_T4 != 0)]\n",
    "YL_T5 = L_T5.loc[(L_T5 != 0)]\n",
    "YL_T6 = L_T6.loc[(L_T6 != 0)]\n",
    "\n",
    "# This makes our LLP list of transverse decay length \n",
    "\n",
    "NL_T1 = L_T1.loc[(L_T1 == 0)] # N for no there is no LLP\n",
    "NL_T2 = L_T2.loc[(L_T2 == 0)]\n",
    "NL_T3 = L_T3.loc[(L_T3 == 0)]\n",
    "NL_T4 = L_T4.loc[(L_T4 == 0)]\n",
    "NL_T5 = L_T5.loc[(L_T5 == 0)]\n",
    "NL_T6 = L_T6.loc[(L_T6 == 0)]\n",
    "\n",
    "# This makes our Non LLP list of transverse decay length\n",
    "\n",
    "YL_T = [YL_T1, YL_T2, YL_T3, YL_T4, YL_T5, YL_T6]\n",
    "NL_T = [NL_T1, NL_T2, NL_T3, NL_T4, NL_T5, NL_T6]"
   ]
  },
  {
   "cell_type": "code",
   "execution_count": 151,
   "metadata": {},
   "outputs": [
    {
     "data": {
      "text/plain": [
       "Text(0.5, 1.0, 'Transverse Decay of non LLPs')"
      ]
     },
     "execution_count": 151,
     "metadata": {},
     "output_type": "execute_result"
    },
    {
     "data": {
      "image/png": "[encoded data removed]",
      "text/plain": [
       "<Figure size 432x288 with 2 Axes>"
      ]
     },
     "metadata": {
      "needs_background": "light"
     },
     "output_type": "display_data"
    }
   ],
   "source": [
    "fig, axes = plot.subplots(nrows = 1, ncols = 2)\n",
    "\n",
    "sn.violinplot(data = YL_T, ax = axes[0])\n",
    "axes[0].set_title('Transverse Decay of LLPs')\n",
    "\n",
    "sn.violinplot(data = NL_T, ax = axes[1])\n",
    "axes[1].set_title('Transverse Decay of non LLPs')"
   ]
  },
  {
   "cell_type": "code",
   "execution_count": 153,
   "metadata": {},
   "outputs": [],
   "source": [
    "YL1 = L1.loc[(L1 != 0)] # Y for Yes there is a LLP\n",
    "YL2 = L2.loc[(L2 != 0)]\n",
    "YL3 = L3.loc[(L3 != 0)]\n",
    "YL4 = L4.loc[(L4 != 0)]\n",
    "YL5 = L5.loc[(L5 != 0)]\n",
    "YL6 = L6.loc[(L6 != 0)]\n",
    "\n",
    "# This makes our LLP list of 3D decay length \n",
    "\n",
    "NL1 = L1.loc[(L1 == 0)] # N for no there is no LLP\n",
    "NL2 = L2.loc[(L2 == 0)]\n",
    "NL3 = L3.loc[(L3 == 0)]\n",
    "NL4 = L4.loc[(L4 == 0)]\n",
    "NL5 = L5.loc[(L5 == 0)]\n",
    "NL6 = L6.loc[(L6 == 0)]\n",
    "\n",
    "# This makes our Non LLP list of 3d decay length\n",
    "\n",
    "YL = [YL1, YL2, YL3, YL4, YL5, YL6]\n",
    "NL = [NL1, NL2, NL3, NL4, NL5, NL6]"
   ]
  },
  {
   "cell_type": "code",
   "execution_count": 154,
   "metadata": {},
   "outputs": [
    {
     "data": {
      "text/plain": [
       "Text(0.5, 1.0, '3D Decay of non LLPs')"
      ]
     },
     "execution_count": 154,
     "metadata": {},
     "output_type": "execute_result"
    },
    {
     "data": {
      "image/png": "[encoded data removed]",
      "text/plain": [
       "<Figure size 432x288 with 2 Axes>"
      ]
     },
     "metadata": {
      "needs_background": "light"
     },
     "output_type": "display_data"
    }
   ],
   "source": [
    "fig, axes = plot.subplots(nrows = 1, ncols = 2)\n",
    "\n",
    "sn.violinplot(data = YL, ax = axes[0])\n",
    "axes[0].set_title('3D Decay of LLPs')\n",
    "\n",
    "sn.violinplot(data = NL, ax = axes[1])\n",
    "axes[1].set_title('3D Decay of non LLPs')"
   ]
  },
  {
   "cell_type": "code",
   "execution_count": null,
   "metadata": {},
   "outputs": [],
   "source": []
  }
 ],
 "metadata": {
  "kernelspec": {
   "display_name": "Python 3",
   "language": "python",
   "name": "python3"
  },
  "language_info": {
   "codemirror_mode": {
    "name": "ipython",
    "version": 3
   },
   "file_extension": ".py",
   "mimetype": "text/x-python",
   "name": "python",
   "nbconvert_exporter": "python",
   "pygments_lexer": "ipython3",
   "version": "3.7.4"
  }
 },
 "nbformat": 4,
 "nbformat_minor": 4
}
